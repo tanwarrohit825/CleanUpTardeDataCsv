{
 "cells": [
  {
   "cell_type": "code",
   "execution_count": 37,
   "metadata": {},
   "outputs": [],
   "source": [
    "import pandas as pd\n",
    "import numpy as np\n",
    "\n",
    "import easygui\n",
    "\n",
    "from fuzzywuzzy import process, fuzz\n"
   ]
  },
  {
   "cell_type": "code",
   "execution_count": 38,
   "metadata": {},
   "outputs": [],
   "source": [
    "#find the file path \n",
    "def findpath(title):\n",
    "    global file_path\n",
    "    file_path = easygui.fileopenbox(title)\n",
    "\n",
    "    # Check if a file was selected\n",
    "    if file_path:\n",
    "        # Replace backslashes with forward slashes\n",
    "        converted_path = file_path.replace('\\\\', '/')\n",
    "    else:\n",
    "        print(\"No file selected.\")\n",
    "\n"
   ]
  },
  {
   "cell_type": "code",
   "execution_count": 39,
   "metadata": {},
   "outputs": [],
   "source": [
    "#find the name and this similar\n",
    "def match_name(name, name_dict, threshold=93):\n",
    "    match, score = process.extractOne(name, name_dict.keys(), scorer=fuzz.token_set_ratio)\n",
    "    if score >= threshold:\n",
    "        return name_dict[match]\n",
    "    else:\n",
    "        return 'NA'"
   ]
  },
  {
   "cell_type": "code",
   "execution_count": 40,
   "metadata": {},
   "outputs": [],
   "source": [
    "#find the TradeData file getting form brocker\n",
    "findpath(\"Select TradeData file or dhan file\")\n",
    "dataForBrocker = pd.read_csv(file_path)\n",
    "dataForBrocker.to_csv('cleanUpTradeData.csv', columns=['Date','Time','Name','Buy/Sell' , 'Quantity/Lot' , 'Trade Value'],index=False)\n",
    "\n",
    "\n"
   ]
  },
  {
   "cell_type": "code",
   "execution_count": 41,
   "metadata": {},
   "outputs": [],
   "source": [
    "#find the Keyfile create my me \n",
    "findpath(\"Select MyKeyValue file \")\n",
    "keyValue = pd.read_csv(file_path)\n"
   ]
  },
  {
   "cell_type": "code",
   "execution_count": 42,
   "metadata": {},
   "outputs": [],
   "source": [
    "#select new cleanUpTradeData \n",
    "findpath(\"Select cleanUpTradeData file\")\n",
    "\n",
    "dataForBrocker = pd.read_csv(file_path)"
   ]
  },
  {
   "cell_type": "code",
   "execution_count": 43,
   "metadata": {},
   "outputs": [],
   "source": [
    "#New Keyvalue\n",
    "# findpath(\"Select cleanUpKeyvalue file\")\n",
    "\n",
    "# keyValue = pd.read_csv(file_path)"
   ]
  },
  {
   "cell_type": "code",
   "execution_count": 44,
   "metadata": {},
   "outputs": [
    {
     "name": "stderr",
     "output_type": "stream",
     "text": [
      "C:\\Users\\Rohit_PC\\AppData\\Local\\Temp\\ipykernel_32432\\1730213997.py:11: FutureWarning: A value is trying to be set on a copy of a DataFrame or Series through chained assignment using an inplace method.\n",
      "The behavior will change in pandas 3.0. This inplace method will never work because the intermediate object on which we are setting values always behaves as a copy.\n",
      "\n",
      "For example, when doing 'df[col].method(value, inplace=True)', try using 'df.method({col: value}, inplace=True)' or df[col] = df[col].method(value) instead, to perform the operation inplace on the original object.\n",
      "\n",
      "\n",
      "  dataForBrocker['Symbol'].replace('NA', 'Rohit', inplace=True)\n"
     ]
    }
   ],
   "source": [
    "\n",
    "dataForBrocker['Name'] = dataForBrocker['Name'].str.strip()\n",
    "keyValue['Name'] = keyValue['Name'].str.strip()\n",
    "\n",
    "#  Create a dictionary for quick lookup using fuzzy matching\n",
    "name_dict = dict(zip(keyValue['Name'], keyValue['Symbol']))\n",
    "\n",
    "# Apply the matching function to the 'Name' column in dataForBrocker\n",
    "dataForBrocker['Symbol'] = dataForBrocker['Name'].apply(lambda x: match_name(x, name_dict))\n",
    "\n",
    "\n",
    "dataForBrocker['Symbol'].replace('NA', 'Rohit', inplace=True)\n",
    "\n",
    "#replace the NAn with rohit\n",
    "#dataForBrocker = dataForBrocker.replace(np.nan, 'Rohit', regex=True)\n",
    "\n",
    "# Write the merged DataFrame to a CSV file\n",
    "dataForBrocker.to_csv('merge.csv', index=False)\n"
   ]
  },
  {
   "cell_type": "code",
   "execution_count": 45,
   "metadata": {},
   "outputs": [],
   "source": [
    "#find the merge file for remane its colloume \n",
    "findpath(\"Select merge file\")\n",
    "\n",
    "mergefile= pd.read_csv(file_path)\n",
    "\n",
    "mergefile = mergefile.rename({\"Buy/Sell\":\"Type\",\"Quantity/Lot\":\"Shares\",\"Trade Value\":\"Value\",\"Symbol\":\"Ticker Symbol\"}, axis='columns')\n",
    "\n",
    "mergefile.drop(mergefile.columns[mergefile.columns.str.contains('Unnamed', case=False)], axis=1, inplace=True)\n",
    "\n",
    "mergefile.to_csv('merge.csv')\n",
    "\n",
    "#print(mergefile)"
   ]
  }
 ],
 "metadata": {
  "kernelspec": {
   "display_name": "Python 3",
   "language": "python",
   "name": "python3"
  },
  "language_info": {
   "codemirror_mode": {
    "name": "ipython",
    "version": 3
   },
   "file_extension": ".py",
   "mimetype": "text/x-python",
   "name": "python",
   "nbconvert_exporter": "python",
   "pygments_lexer": "ipython3",
   "version": "3.11.5"
  }
 },
 "nbformat": 4,
 "nbformat_minor": 2
}
