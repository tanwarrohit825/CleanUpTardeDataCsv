{
 "cells": [
  {
   "cell_type": "code",
   "execution_count": 38,
   "metadata": {},
   "outputs": [],
   "source": [
    "import pandas as pd\n",
    "import numpy as np\n",
    "\n",
    "import easygui\n",
    "\n",
    "from fuzzywuzzy import process, fuzz\n"
   ]
  },
  {
   "cell_type": "code",
   "execution_count": 39,
   "metadata": {},
   "outputs": [],
   "source": [
    "#find the file path \n",
    "def findpath(title):\n",
    "    global file_path\n",
    "    file_path = easygui.fileopenbox(title)\n",
    "\n",
    "    # Check if a file was selected\n",
    "    if file_path:\n",
    "        # Replace backslashes with forward slashes\n",
    "        converted_path = file_path.replace('\\\\', '/')\n",
    "    else:\n",
    "        print(\"No file selected.\")\n",
    "\n"
   ]
  },
  {
   "cell_type": "code",
   "execution_count": 40,
   "metadata": {},
   "outputs": [],
   "source": [
    "def match_name(name, name_dict, threshold=93):\n",
    "    match, score = process.extractOne(name, name_dict.keys(), scorer=fuzz.token_set_ratio)\n",
    "    if score >= threshold:\n",
    "        return name_dict[match]\n",
    "    else:\n",
    "        return 'NA'"
   ]
  },
  {
   "cell_type": "code",
   "execution_count": 41,
   "metadata": {},
   "outputs": [],
   "source": [
    "#find the TradeData file getting form brocker\n",
    "findpath(\"Select TradeData file or dhan file\")\n",
    "dataForBrocker = pd.read_csv(file_path)\n",
    "dataForBrocker.to_csv('cleanUpTradeData.csv', columns=['Date','Time','Name','Buy/Sell' , 'Quantity/Lot' , 'Trade Value'],index=False)\n",
    "\n",
    "\n"
   ]
  },
  {
   "cell_type": "code",
   "execution_count": 42,
   "metadata": {},
   "outputs": [],
   "source": [
    "#find the Keyfile create my me \n",
    "findpath(\"Select MyKeyValue file \")\n",
    "keyValue = pd.read_csv(file_path)\n"
   ]
  },
  {
   "cell_type": "code",
   "execution_count": 43,
   "metadata": {},
   "outputs": [],
   "source": [
    "#select new cleanUpTradeData \n",
    "findpath(\"Select cleanUpTradeData file\")\n",
    "\n",
    "dataForBrocker = pd.read_csv(file_path)"
   ]
  },
  {
   "cell_type": "code",
   "execution_count": 44,
   "metadata": {},
   "outputs": [],
   "source": [
    "#New Keyvalue\n",
    "# findpath(\"Select cleanUpKeyvalue file\")\n",
    "\n",
    "# keyValue = pd.read_csv(file_path)"
   ]
  },
  {
   "cell_type": "code",
   "execution_count": 45,
   "metadata": {},
   "outputs": [],
   "source": [
    "\n",
    "dataForBrocker['Name'] = dataForBrocker['Name'].str.strip()\n",
    "keyValue['Name'] = keyValue['Name'].str.strip()\n",
    "\n",
    "#  Create a dictionary for quick lookup using fuzzy matching\n",
    "name_dict = dict(zip(keyValue['Name'], keyValue['Symbol']))\n",
    "\n",
    "# Apply the matching function to the 'Name' column in dataForBrocker\n",
    "dataForBrocker['Symbol'] = dataForBrocker['Name'].apply(lambda x: match_name(x, name_dict))\n",
    "\n",
    "#replace the NAn with rohit\n",
    "dataForBrocker = dataForBrocker.replace(np.nan, 'Rohit', regex=True)\n",
    "\n",
    "# Step 8: Write the merged DataFrame to a CSV file\n",
    "dataForBrocker.to_csv('merge.csv', index=False)\n"
   ]
  },
  {
   "cell_type": "code",
   "execution_count": 46,
   "metadata": {},
   "outputs": [],
   "source": [
    "#find the merge file for remane its colloume \n",
    "findpath(\"Select merge file\")\n",
    "\n",
    "mergefile= pd.read_csv(file_path)\n",
    "\n",
    "mergefile = mergefile.rename({\"Buy/Sell\":\"Type\",\"Quantity/Lot\":\"Shares\",\"Trade Value\":\"Value\",\"Symbol\":\"Ticker Symbol\"}, axis='columns')\n",
    "\n",
    "mergefile.drop(mergefile.columns[mergefile.columns.str.contains('Unnamed', case=False)], axis=1, inplace=True)\n",
    "\n",
    "mergefile.to_csv('merge.csv')\n",
    "\n",
    "#print(mergefile)"
   ]
  }
 ],
 "metadata": {
  "kernelspec": {
   "display_name": "Python 3",
   "language": "python",
   "name": "python3"
  },
  "language_info": {
   "codemirror_mode": {
    "name": "ipython",
    "version": 3
   },
   "file_extension": ".py",
   "mimetype": "text/x-python",
   "name": "python",
   "nbconvert_exporter": "python",
   "pygments_lexer": "ipython3",
   "version": "3.11.5"
  }
 },
 "nbformat": 4,
 "nbformat_minor": 2
}
